{
 "cells": [
  {
   "cell_type": "code",
   "execution_count": 1,
   "id": "048288b8-ee82-4bd3-a3e9-e00c9af67fbc",
   "metadata": {},
   "outputs": [
    {
     "name": "stdout",
     "output_type": "stream",
     "text": [
      "                                        bookId  \\\n",
      "0                     2767052-the-hunger-games   \n",
      "1  2.Harry_Potter_and_the_Order_of_the_Phoenix   \n",
      "2                   2657.To_Kill_a_Mockingbird   \n",
      "3                     1885.Pride_and_Prejudice   \n",
      "4                               41865.Twilight   \n",
      "5                         19063.The_Book_Thief   \n",
      "6                           170448.Animal_Farm   \n",
      "7               11127.The_Chronicles_of_Narnia   \n",
      "8            30.J_R_R_Tolkien_4_Book_Boxed_Set   \n",
      "9                     18405.Gone_with_the_Wind   \n",
      "\n",
      "                                               title  \\\n",
      "0                                   The Hunger Games   \n",
      "1          Harry Potter and the Order of the Phoenix   \n",
      "2                              To Kill a Mockingbird   \n",
      "3                                Pride and Prejudice   \n",
      "4                                           Twilight   \n",
      "5                                     The Book Thief   \n",
      "6                                        Animal Farm   \n",
      "7                           The Chronicles of Narnia   \n",
      "8  J.R.R. Tolkien 4-Book Boxed Set: The Hobbit an...   \n",
      "9                                 Gone with the Wind   \n",
      "\n",
      "                                              series  \\\n",
      "0                                The Hunger Games #1   \n",
      "1                                    Harry Potter #5   \n",
      "2                              To Kill a Mockingbird   \n",
      "3                                                NaN   \n",
      "4                               The Twilight Saga #1   \n",
      "5                                                NaN   \n",
      "6                                                NaN   \n",
      "7  The Chronicles of Narnia (Publication Order) #...   \n",
      "8                         The Lord of the Rings #0-3   \n",
      "9                                                NaN   \n",
      "\n",
      "                                              author  rating  \\\n",
      "0                                    Suzanne Collins    4.33   \n",
      "1         J.K. Rowling, Mary GrandPr?? (Illustrator)    4.50   \n",
      "2                                         Harper Lee    4.28   \n",
      "3          Jane Austen, Anna Quindlen (Introduction)    4.26   \n",
      "4                                    Stephenie Meyer    3.60   \n",
      "5                    Markus Zusak (Goodreads Author)    4.37   \n",
      "6  George Orwell, Russell Baker (Preface), C.M. W...    3.95   \n",
      "7           C.S. Lewis, Pauline Baynes (Illustrator)    4.26   \n",
      "8                                     J.R.R. Tolkien    4.60   \n",
      "9                                  Margaret Mitchell    4.30   \n",
      "\n",
      "                                         description language           isbn  \\\n",
      "0  WINNING MEANS FAME AND FORTUNE.LOSING MEANS CE...  English  9780439023481   \n",
      "1  There is a door at the end of a silent corrido...  English  9780439358071   \n",
      "2  The unforgettable novel of a childhood in a sl...  English  9999999999999   \n",
      "3  Alternate cover edition of ISBN 9780679783268S...  English  9999999999999   \n",
      "4  About three things I was absolutely positive.\\...  English  9780316015844   \n",
      "5  Librarian's note: An alternate cover edition c...  English  9780375831003   \n",
      "6  Librarian's note: There is an Alternate Cover ...  English  9780451526342   \n",
      "7  Journeys to the end of the world, fantastic cr...  English  9999999999999   \n",
      "8  This four-volume, boxed set contains J.R.R. To...  English  9780345538376   \n",
      "9  Scarlett O'Hara, the beautiful, spoiled daught...  English  9780446675536   \n",
      "\n",
      "                                              genres  \\\n",
      "0  ['Young Adult', 'Fiction', 'Dystopia', 'Fantas...   \n",
      "1  ['Fantasy', 'Young Adult', 'Fiction', 'Magic',...   \n",
      "2  ['Classics', 'Fiction', 'Historical Fiction', ...   \n",
      "3  ['Classics', 'Fiction', 'Romance', 'Historical...   \n",
      "4  ['Young Adult', 'Fantasy', 'Romance', 'Vampire...   \n",
      "5  ['Historical Fiction', 'Fiction', 'Young Adult...   \n",
      "6  ['Classics', 'Fiction', 'Dystopia', 'Fantasy',...   \n",
      "7  ['Fantasy', 'Classics', 'Fiction', 'Young Adul...   \n",
      "8  ['Fantasy', 'Fiction', 'Classics', 'Adventure'...   \n",
      "9  ['Classics', 'Historical Fiction', 'Fiction', ...   \n",
      "\n",
      "                                          characters  ...  \\\n",
      "0  ['Katniss Everdeen', 'Peeta Mellark', 'Cato (H...  ...   \n",
      "1  ['Sirius Black', 'Draco Malfoy', 'Ron Weasley'...  ...   \n",
      "2  ['Scout Finch', 'Atticus Finch', 'Jem Finch', ...  ...   \n",
      "3  ['Mr. Bennet', 'Mrs. Bennet', 'Jane Bennet', '...  ...   \n",
      "4  ['Edward Cullen', 'Jacob Black', 'Laurent', 'R...  ...   \n",
      "5  ['Liesel Meminger', 'Hans Hubermann', 'Rudy St...  ...   \n",
      "6  ['Snowball', 'Napoleon', 'Clover', 'Boxer', 'O...  ...   \n",
      "7  ['Polly', 'Aslan', 'Lucy Pevensie', 'Edmund Pe...  ...   \n",
      "8  ['Frodo Baggins', 'Gandalf', 'Bilbo Baggins', ...  ...   \n",
      "9  [\"Scarlett O'Hara\", 'Rhett Butler', 'Ashley Wi...  ...   \n",
      "\n",
      "      firstPublishDate                                             awards  \\\n",
      "0                  NaN  ['Locus Award Nominee for Best Young Adult Boo...   \n",
      "1             06/21/03  ['Bram Stoker Award for Works for Young Reader...   \n",
      "2  1960-11-07 00:00:00  ['Pulitzer Prize for Fiction (1961)', 'Audie A...   \n",
      "3             01/28/13                                                 []   \n",
      "4  2005-05-10 00:00:00  ['Georgia Peach Book Award (2007)', 'Buxtehude...   \n",
      "5  2005-01-09 00:00:00  ['National Jewish Book Award for Children?€?s ...   \n",
      "6             08/17/45  ['Prometheus Hall of Fame Award (2011)', 'Retr...   \n",
      "7             10/28/56                                                 []   \n",
      "8             10/20/55                                                 []   \n",
      "9             06/30/36  ['Pulitzer Prize for Novel (1937)', 'National ...   \n",
      "\n",
      "  numRatings                                     ratingsByStars likedPercent  \\\n",
      "0    6376780  ['3444695', '1921313', '745221', '171994', '93...         96.0   \n",
      "1    2507623  ['1593642', '637516', '222366', '39573', '14526']         98.0   \n",
      "2    4501075  ['2363896', '1333153', '573280', '149952', '80...         95.0   \n",
      "3    2998241  ['1617567', '816659', '373311', '113934', '767...         94.0   \n",
      "4    4964519  ['1751460', '1113682', '1008686', '542017', '5...         78.0   \n",
      "5    1834276  ['1048230', '524674', '186297', '48864', '26211']         96.0   \n",
      "6    2740713  ['986764', '958699', '545475', '165093', '84682']         91.0   \n",
      "7     517740     ['254964', '167572', '74362', '15423', '5419']         96.0   \n",
      "8     110146          ['78217', '22857', '6628', '1477', '967']         98.0   \n",
      "9    1074620   ['602138', '275517', '133535', '39008', '24422']         94.0   \n",
      "\n",
      "                                             setting  \\\n",
      "0  ['District 12, Panem', 'Capitol, Panem', 'Pane...   \n",
      "1  ['Hogwarts School of Witchcraft and Wizardry (...   \n",
      "2               ['Maycomb, Alabama (United States)']   \n",
      "3  ['United Kingdom', 'Derbyshire, England (Unite...   \n",
      "4  ['Forks, Washington (United States)', 'Phoenix...   \n",
      "5                  ['Molching (Germany)', 'Germany']   \n",
      "6                      ['England', 'United Kingdom']   \n",
      "7                                ['London, England']   \n",
      "8                                   ['Middle-earth']   \n",
      "9               ['Atlanta, Georgia (United States)']   \n",
      "\n",
      "                                            coverImg  bbeScore bbeVotes  price  \n",
      "0  https://i.gr-assets.com/images/S/compressed.ph...   2993816    30516   5.09  \n",
      "1  https://i.gr-assets.com/images/S/compressed.ph...   2632233    26923   7.38  \n",
      "2  https://i.gr-assets.com/images/S/compressed.ph...   2269402    23328    NaN  \n",
      "3  https://i.gr-assets.com/images/S/compressed.ph...   1983116    20452    NaN  \n",
      "4  https://i.gr-assets.com/images/S/compressed.ph...   1459448    14874    2.1  \n",
      "5  https://i.gr-assets.com/images/S/compressed.ph...   1372809    14168    3.8  \n",
      "6  https://i.gr-assets.com/images/S/compressed.ph...   1276599    13264   4.42  \n",
      "7  https://i.gr-assets.com/images/S/compressed.ph...   1238556    12949    NaN  \n",
      "8  https://i.gr-assets.com/images/S/compressed.ph...   1159802    12111  21.15  \n",
      "9  https://i.gr-assets.com/images/S/compressed.ph...   1087732    11211   5.58  \n",
      "\n",
      "[10 rows x 25 columns]\n"
     ]
    }
   ],
   "source": [
    "import pandas as pd\n",
    "df = pd.read_excel(\"/Users/caiyunchen/Documents/GitHub/Data_Analysis_Portfolio/Raw/books.xlsx\")\n",
    "\n",
    "\n",
    "\n",
    "# Display the first few rows of the DataFrame\n",
    "print(df.head(10))\n"
   ]
  },
  {
   "cell_type": "code",
   "execution_count": 3,
   "id": "049010d8-febb-47d8-b1db-31db582b5ce9",
   "metadata": {},
   "outputs": [
    {
     "data": {
      "text/plain": [
       "(52478, 25)"
      ]
     },
     "execution_count": 3,
     "metadata": {},
     "output_type": "execute_result"
    }
   ],
   "source": [
    "df.shape\n"
   ]
  },
  {
   "cell_type": "code",
   "execution_count": 5,
   "id": "a674ebd5-ac64-48dc-92f3-5a07b799e018",
   "metadata": {},
   "outputs": [
    {
     "name": "stdout",
     "output_type": "stream",
     "text": [
      "Number of null values in the column: 21326\n"
     ]
    }
   ],
   "source": [
    "null_count = df['firstPublishDate'].isnull().sum()\n",
    "print(f\"Number of null values in the column: {null_count}\")\n"
   ]
  },
  {
   "cell_type": "code",
   "execution_count": null,
   "id": "cfe40c1a-a69b-49f6-b024-e4d4d6577803",
   "metadata": {},
   "outputs": [],
   "source": [
    "null_count = df['firstPublishDate'].isnull().sum()\n",
    "print(f\"Number of null values in the column: {null_count}\")"
   ]
  }
 ],
 "metadata": {
  "kernelspec": {
   "display_name": "Python 3 (ipykernel)",
   "language": "python",
   "name": "python3"
  },
  "language_info": {
   "codemirror_mode": {
    "name": "ipython",
    "version": 3
   },
   "file_extension": ".py",
   "mimetype": "text/x-python",
   "name": "python",
   "nbconvert_exporter": "python",
   "pygments_lexer": "ipython3",
   "version": "3.12.4"
  }
 },
 "nbformat": 4,
 "nbformat_minor": 5
}
