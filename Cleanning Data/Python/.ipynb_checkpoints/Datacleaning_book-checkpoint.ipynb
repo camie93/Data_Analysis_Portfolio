{
 "cells": [
  {
   "cell_type": "code",
   "execution_count": 2,
   "id": "3afa13aa-c3dc-441a-b4b8-b30179d9bfb8",
   "metadata": {},
   "outputs": [],
   "source": [
    "import pandas as pd"
   ]
  },
  {
   "cell_type": "code",
   "execution_count": 7,
   "id": "2ec19b87-3684-4117-bb2f-8c5ba7204d8e",
   "metadata": {},
   "outputs": [
    {
     "name": "stdout",
     "output_type": "stream",
     "text": [
      "   Book_ID          publishDate     firstPublishDate\n",
      "0  2767052             09/14/08                  NaN\n",
      "1        2             09/28/04             06/21/03\n",
      "2     2657             05/23/06  1960-11-07 00:00:00\n",
      "3     1885  2000-10-10 00:00:00             01/28/13\n",
      "4    41865  2006-06-09 00:00:00  2005-05-10 00:00:00\n"
     ]
    }
   ],
   "source": [
    "\n",
    "\n",
    "df = pd.read_excel(\"C:\\\\Users\\\\tmc\\\\Desktop\\\\CAIYUN\\\\PORTFOLIO\\\\PORTFOLIO_BOOK\\\\Cleaning\\\\Excel\\\\Book_dateColumn.xlsx\")\n",
    "print(df.head())\n"
   ]
  },
  {
   "cell_type": "code",
   "execution_count": 10,
   "id": "815f5dc6-c032-43b2-82f2-d8cec5a1c747",
   "metadata": {},
   "outputs": [
    {
     "name": "stdout",
     "output_type": "stream",
     "text": [
      "        Book_ID publishDate firstPublishDate\n",
      "0       2767052  2008-09-14              NaT\n",
      "1             2  2004-09-28       2003-06-21\n",
      "2          2657  2006-05-23       1960-11-07\n",
      "3          1885  2000-10-10       2013-01-28\n",
      "4         41865  2006-06-09       2005-05-10\n",
      "...         ...         ...              ...\n",
      "52473  11492014  2011-05-28              NaT\n",
      "52474  11836711  2011-08-05       2011-08-03\n",
      "52475  10815662  2011-03-18       2011-03-15\n",
      "52476  11330278  2011-09-01       2011-04-05\n",
      "52477  10991547  2011-05-08              NaT\n",
      "\n",
      "[52478 rows x 3 columns]\n"
     ]
    }
   ],
   "source": [
    "# Convert the date columns to datetime format\n",
    "df['publishDate'] = pd.to_datetime(df['publishDate'], errors='coerce')\n",
    "df['firstPublishDate'] = pd.to_datetime(df['firstPublishDate'], errors='coerce')\n",
    "\n",
    "# Display the updated DataFrame\n",
    "print(df)\n"
   ]
  },
  {
   "cell_type": "code",
   "execution_count": 28,
   "id": "25707498-7d72-4c79-be89-193d41616a24",
   "metadata": {
    "scrolled": true
   },
   "outputs": [
    {
     "data": {
      "text/html": [
       "<div>\n",
       "<style scoped>\n",
       "    .dataframe tbody tr th:only-of-type {\n",
       "        vertical-align: middle;\n",
       "    }\n",
       "\n",
       "    .dataframe tbody tr th {\n",
       "        vertical-align: top;\n",
       "    }\n",
       "\n",
       "    .dataframe thead th {\n",
       "        text-align: right;\n",
       "    }\n",
       "</style>\n",
       "<table border=\"1\" class=\"dataframe\">\n",
       "  <thead>\n",
       "    <tr style=\"text-align: right;\">\n",
       "      <th></th>\n",
       "      <th>Book_ID</th>\n",
       "      <th>publishDate</th>\n",
       "      <th>firstPublishDate</th>\n",
       "    </tr>\n",
       "  </thead>\n",
       "  <tbody>\n",
       "    <tr>\n",
       "      <th>0</th>\n",
       "      <td>2767052</td>\n",
       "      <td>2008-09-14</td>\n",
       "      <td>NaT</td>\n",
       "    </tr>\n",
       "    <tr>\n",
       "      <th>1</th>\n",
       "      <td>2</td>\n",
       "      <td>2004-09-28</td>\n",
       "      <td>2003-06-21</td>\n",
       "    </tr>\n",
       "    <tr>\n",
       "      <th>2</th>\n",
       "      <td>2657</td>\n",
       "      <td>2006-05-23</td>\n",
       "      <td>1960-11-07</td>\n",
       "    </tr>\n",
       "    <tr>\n",
       "      <th>3</th>\n",
       "      <td>1885</td>\n",
       "      <td>2000-10-10</td>\n",
       "      <td>2013-01-28</td>\n",
       "    </tr>\n",
       "    <tr>\n",
       "      <th>4</th>\n",
       "      <td>41865</td>\n",
       "      <td>2006-06-09</td>\n",
       "      <td>2005-05-10</td>\n",
       "    </tr>\n",
       "    <tr>\n",
       "      <th>...</th>\n",
       "      <td>...</td>\n",
       "      <td>...</td>\n",
       "      <td>...</td>\n",
       "    </tr>\n",
       "    <tr>\n",
       "      <th>95</th>\n",
       "      <td>33648131</td>\n",
       "      <td>2000-05-01</td>\n",
       "      <td>1996-01-10</td>\n",
       "    </tr>\n",
       "    <tr>\n",
       "      <th>96</th>\n",
       "      <td>99107</td>\n",
       "      <td>2001-01-10</td>\n",
       "      <td>2026-10-14</td>\n",
       "    </tr>\n",
       "    <tr>\n",
       "      <th>97</th>\n",
       "      <td>23919</td>\n",
       "      <td>1984-08-15</td>\n",
       "      <td>2049-10-28</td>\n",
       "    </tr>\n",
       "    <tr>\n",
       "      <th>98</th>\n",
       "      <td>43763</td>\n",
       "      <td>2004-08-31</td>\n",
       "      <td>1976-12-04</td>\n",
       "    </tr>\n",
       "    <tr>\n",
       "      <th>99</th>\n",
       "      <td>4473</td>\n",
       "      <td>1990-10-28</td>\n",
       "      <td>1989-03-28</td>\n",
       "    </tr>\n",
       "  </tbody>\n",
       "</table>\n",
       "<p>100 rows × 3 columns</p>\n",
       "</div>"
      ],
      "text/plain": [
       "     Book_ID publishDate firstPublishDate\n",
       "0    2767052  2008-09-14              NaT\n",
       "1          2  2004-09-28       2003-06-21\n",
       "2       2657  2006-05-23       1960-11-07\n",
       "3       1885  2000-10-10       2013-01-28\n",
       "4      41865  2006-06-09       2005-05-10\n",
       "..       ...         ...              ...\n",
       "95  33648131  2000-05-01       1996-01-10\n",
       "96     99107  2001-01-10       2026-10-14\n",
       "97     23919  1984-08-15       2049-10-28\n",
       "98     43763  2004-08-31       1976-12-04\n",
       "99      4473  1990-10-28       1989-03-28\n",
       "\n",
       "[100 rows x 3 columns]"
      ]
     },
     "execution_count": 28,
     "metadata": {},
     "output_type": "execute_result"
    }
   ],
   "source": [
    "# pd.set_option('display.max_columns', 30)\n",
    "# pd.set_option('display.max_rows', 30)\n",
    "# df.firstPublishDate\n",
    "\n",
    "df.head(100)"
   ]
  },
  {
   "cell_type": "code",
   "execution_count": null,
   "id": "1a883f76-2908-4fd5-bcdb-415611d99335",
   "metadata": {},
   "outputs": [],
   "source": [
    "# import pandas as pd\n",
    "\n",
    "# # Load the DataFrame from the Excel file\n",
    "# df = pd.read_excel(r\"C:\\Users\\tmc\\Desktop\\CAIYUN\\PORTFOLIO\\PORTFOLIO_BOOK\\Cleaning\\Excel\\Book_dateColumn.xlsx\")\n",
    "\n",
    "# # Display the initial DataFrame\n",
    "# print(\"Original DataFrame:\")\n",
    "# print(df)\n",
    "\n",
    "# # Parse the date columns\n",
    "# df['publishDate'] = pd.to_datetime(df['publishDate'], errors='coerce')\n",
    "# df['firstPublishDate'] = pd.to_datetime(df['firstPublishDate'], errors='coerce')\n",
    "\n",
    "# # Display the DataFrame after parsing the date columns\n",
    "# print(\"\\nDataFrame after parsing date columns:\")\n",
    "# print(df)\n",
    "\n",
    "# # Check for any NaT values in the date columns (indicating parsing issues)\n",
    "# print(\"\\nNaT values in date columns:\")\n",
    "# print(df[['publishDate', 'firstPublishDate']].isnull().sum())\n"
   ]
  },
  {
   "cell_type": "code",
   "execution_count": null,
   "id": "218950b5-7323-4bc6-8ca6-ee6b3472f5ed",
   "metadata": {},
   "outputs": [],
   "source": [
    "# import pandas as pd\n",
    "# import numpy as np\n",
    "\n",
    "# # Load your dataset (replace with the actual file path)\n",
    "# # Assuming the file is a CSV\n",
    "# df = pd.read_csv('date.csv')  # Replace with your actual file path\n",
    "# df['firstPublishDate'] = df['firstPublishDate'].astype(str)\n",
    "\n",
    "# # Custom function to handle two-digit and four-digit years\n",
    "# def parse_mixed_dates(date):\n",
    "#     try:\n",
    "#         # Attempt to parse as MM/DD/YY and handle 2-digit years\n",
    "#         if len(str(date).split('/')[-1]) == 2:\n",
    "#             return pd.to_datetime(date, format='%m/%d/%y', errors='coerce')\n",
    "#         else:\n",
    "#             # For four-digit years, parse as MM/DD/YYYY\n",
    "#             return pd.to_datetime(date, format='%m/%d/%Y', errors='coerce')\n",
    "#     except:\n",
    "#         return np.nan  # Handle invalid dates\n",
    "\n",
    "# # Apply the function to the 'firstPublishDate' column\n",
    "# df['firstPublishDate'] = df['firstPublishDate'].apply(parse_mixed_dates)\n",
    "\n",
    "# # Format the date column back to UK date format (dd/mm/yyyy)\n",
    "# df['firstPublishDate'] = df['firstPublishDate'].dt.strftime('%d/%m/%Y')\n",
    "\n",
    "\n",
    "\n",
    "# # Print sample of updated DataFrame\n",
    "# print(df.head(20))"
   ]
  },
  {
   "cell_type": "code",
   "execution_count": 33,
   "id": "273ddee7-5bbf-4aef-badc-c359643ac80d",
   "metadata": {},
   "outputs": [
    {
     "name": "stdout",
     "output_type": "stream",
     "text": [
      "\n",
      "Updated DataFrame:\n",
      "        Book_ID publishDate firstPublishDate\n",
      "0       2767052  2008-09-14              NaT\n",
      "1             2  2004-09-28       2003-06-21\n",
      "2          2657  2006-05-23       1960-11-07\n",
      "3          1885  2000-10-10       2013-01-28\n",
      "4         41865  2006-06-09       2005-05-10\n",
      "...         ...         ...              ...\n",
      "52473  11492014  2011-05-28              NaT\n",
      "52474  11836711  2011-08-05       2011-08-03\n",
      "52475  10815662  2011-03-18       2011-03-15\n",
      "52476  11330278  2011-09-01       2011-04-05\n",
      "52477  10991547  2011-05-08              NaT\n",
      "\n",
      "[52478 rows x 3 columns]\n"
     ]
    }
   ],
   "source": [
    "# import pandas as pd\n",
    "\n",
    "# # Load the DataFrame from the Excel file\n",
    "# df = pd.read_excel(r\"C:\\Users\\tmc\\Desktop\\CAIYUN\\PORTFOLIO\\PORTFOLIO_BOOK\\Cleaning\\Excel\\Book_dateColumn.xlsx\")\n",
    "\n",
    "# # Parse the date columns\n",
    "# df['firstPublishDate'] = pd.to_datetime(df['firstPublishDate'], errors='coerce')\n",
    "\n",
    "# # Display original DataFrame\n",
    "# print(\"Original DataFrame:\")\n",
    "# print(df)\n",
    "\n",
    "# Function to change year while ensuring valid dates\n",
    "def change_year(date):\n",
    "    if date is not pd.NaT and date.year > 2024:\n",
    "        try:\n",
    "            # Change the first two digits of the year to '19'\n",
    "            new_year = 1900 + (date.year % 100)  # Keep the last two digits, change to 19\n",
    "            return date.replace(year=new_year)\n",
    "        except ValueError:\n",
    "            # If the date is invalid, return the original date\n",
    "            return date\n",
    "    return date  # Return the date unchanged\n",
    "\n",
    "# Apply the function to the firstPublishDate column\n",
    "df['firstPublishDate'] = df['firstPublishDate'].apply(change_year)\n",
    "\n",
    "# Display the updated DataFrame\n",
    "print(\"\\nUpdated DataFrame:\")\n",
    "print(df)\n"
   ]
  },
  {
   "cell_type": "code",
   "execution_count": 32,
   "id": "0c3200e3-4a34-4e70-84f3-e9f8f593eb36",
   "metadata": {},
   "outputs": [],
   "source": [
    "df.to_csv('date.csv', index=False)"
   ]
  }
 ],
 "metadata": {
  "kernelspec": {
   "display_name": "Python 3 (ipykernel)",
   "language": "python",
   "name": "python3"
  },
  "language_info": {
   "codemirror_mode": {
    "name": "ipython",
    "version": 3
   },
   "file_extension": ".py",
   "mimetype": "text/x-python",
   "name": "python",
   "nbconvert_exporter": "python",
   "pygments_lexer": "ipython3",
   "version": "3.12.4"
  }
 },
 "nbformat": 4,
 "nbformat_minor": 5
}
